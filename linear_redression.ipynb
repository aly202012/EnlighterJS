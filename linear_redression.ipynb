{
  "nbformat": 4,
  "nbformat_minor": 0,
  "metadata": {
    "colab": {
      "name": "linear redression.ipynb",
      "provenance": [],
      "collapsed_sections": [],
      "authorship_tag": "ABX9TyMQb4/4cRzXum5tj5zzVPYX",
      "include_colab_link": true
    },
    "kernelspec": {
      "name": "python3",
      "display_name": "Python 3"
    },
    "language_info": {
      "name": "python"
    }
  },
  "cells": [
    {
      "cell_type": "markdown",
      "metadata": {
        "id": "view-in-github",
        "colab_type": "text"
      },
      "source": [
        "<a href=\"https://colab.research.google.com/github/aly202012/EnlighterJS/blob/master/linear_redression.ipynb\" target=\"_parent\"><img src=\"https://colab.research.google.com/assets/colab-badge.svg\" alt=\"Open In Colab\"/></a>"
      ]
    },
    {
      "cell_type": "code",
      "metadata": {
        "id": "I89AOJ-cquE-"
      },
      "source": [
        "import torch \n",
        "import numpy as np \n",
        "import pandas as pd\n",
        "import matplotlib.pyplot as plt"
      ],
      "execution_count": 1,
      "outputs": []
    },
    {
      "cell_type": "code",
      "metadata": {
        "id": "eWvq2mSDqwYy"
      },
      "source": [
        "# Input (temp, rainfall, humidity)\n",
        "inputs = np.array([[73, 67, 43], \n",
        "                   [91, 88, 64], \n",
        "                   [87, 134, 58], \n",
        "                   [102, 43, 37], \n",
        "                   [69, 96, 70]], dtype='float32')"
      ],
      "execution_count": 2,
      "outputs": []
    },
    {
      "cell_type": "code",
      "metadata": {
        "id": "5DDkWOPMyhg-"
      },
      "source": [
        "# Targets (apples, oranges)\n",
        "targets = np.array([[56, 70], \n",
        "                    [81, 101], \n",
        "                    [119, 133], \n",
        "                    [22, 37], \n",
        "                    [103, 119]], dtype='float32')"
      ],
      "execution_count": 3,
      "outputs": []
    },
    {
      "cell_type": "code",
      "metadata": {
        "colab": {
          "base_uri": "https://localhost:8080/"
        },
        "id": "C6q_RmBuykQF",
        "outputId": "9acd6723-8bb1-434f-84f3-4d0cda63c847"
      },
      "source": [
        "inputs=torch.from_numpy(inputs)\n",
        "print(inputs)\n",
        "print('------------------------------')\n",
        "targets=torch.from_numpy(targets)\n",
        "print(targets)"
      ],
      "execution_count": 4,
      "outputs": [
        {
          "output_type": "stream",
          "name": "stdout",
          "text": [
            "tensor([[ 73.,  67.,  43.],\n",
            "        [ 91.,  88.,  64.],\n",
            "        [ 87., 134.,  58.],\n",
            "        [102.,  43.,  37.],\n",
            "        [ 69.,  96.,  70.]])\n",
            "------------------------------\n",
            "tensor([[ 56.,  70.],\n",
            "        [ 81., 101.],\n",
            "        [119., 133.],\n",
            "        [ 22.,  37.],\n",
            "        [103., 119.]])\n"
          ]
        }
      ]
    },
    {
      "cell_type": "code",
      "metadata": {
        "colab": {
          "base_uri": "https://localhost:8080/"
        },
        "id": "owt2w0ZZ2c6d",
        "outputId": "1a031a49-627e-4ab7-8d2c-8ce592f22414"
      },
      "source": [
        "w=torch.rand(2,3 , requires_grad=True)\n",
        "b=torch.rand(2 , requires_grad=True)\n",
        "print(w)\n",
        "print(b)"
      ],
      "execution_count": 5,
      "outputs": [
        {
          "output_type": "stream",
          "name": "stdout",
          "text": [
            "tensor([[0.3371, 0.8819, 0.1685],\n",
            "        [0.6916, 0.3311, 0.7015]], requires_grad=True)\n",
            "tensor([0.8696, 0.2915], requires_grad=True)\n"
          ]
        }
      ]
    },
    {
      "cell_type": "code",
      "metadata": {
        "colab": {
          "base_uri": "https://localhost:8080/"
        },
        "id": "yZtWwMn_45S1",
        "outputId": "c83f0dc8-f8e7-4799-a54c-aaefab50247f"
      },
      "source": [
        "w=torch.randn(2,3 , requires_grad=True)\n",
        "b=torch.randn(1,2 , requires_grad=True)\n",
        "print(w)\n",
        "print(b)"
      ],
      "execution_count": 6,
      "outputs": [
        {
          "output_type": "stream",
          "name": "stdout",
          "text": [
            "tensor([[-0.2068, -1.3100, -0.7053],\n",
            "        [-0.7497, -0.8396, -0.8350]], requires_grad=True)\n",
            "tensor([[-0.0891, -0.2117]], requires_grad=True)\n"
          ]
        }
      ]
    },
    {
      "cell_type": "code",
      "metadata": {
        "id": "LUfOUcn35Grz"
      },
      "source": [
        "def model(x):\n",
        "  return x @ w.t() + b"
      ],
      "execution_count": 7,
      "outputs": []
    },
    {
      "cell_type": "code",
      "metadata": {
        "colab": {
          "base_uri": "https://localhost:8080/"
        },
        "id": "hbSzj-IS7Atv",
        "outputId": "f3edcf20-2c47-42b1-87bf-f569adcb023f"
      },
      "source": [
        "# Generate predictions\n",
        "# نشاء التنبؤات \n",
        "pred=model(inputs)\n",
        "print(pred)"
      ],
      "execution_count": 8,
      "outputs": [
        {
          "output_type": "stream",
          "name": "stdout",
          "text": [
            "tensor([[-133.2818, -147.1038],\n",
            "        [-179.3254, -195.7670],\n",
            "        [-234.5247, -226.3805],\n",
            "        [-103.6074, -143.6847],\n",
            "        [-189.4879, -191.0003]], grad_fn=<AddBackward0>)\n"
          ]
        }
      ]
    },
    {
      "cell_type": "code",
      "metadata": {
        "colab": {
          "base_uri": "https://localhost:8080/"
        },
        "id": "gPBxgG167snd",
        "outputId": "1bedb6e3-4ca6-407f-c3dd-dcb806799e05"
      },
      "source": [
        "print(targets)"
      ],
      "execution_count": 9,
      "outputs": [
        {
          "output_type": "stream",
          "name": "stdout",
          "text": [
            "tensor([[ 56.,  70.],\n",
            "        [ 81., 101.],\n",
            "        [119., 133.],\n",
            "        [ 22.,  37.],\n",
            "        [103., 119.]])\n"
          ]
        }
      ]
    },
    {
      "cell_type": "code",
      "metadata": {
        "id": "NIhXQLcE9Y3F"
      },
      "source": [
        "# MSE loss\n",
        "\n",
        "def mse(t1,t2):\n",
        "  diff=t1-t2\n",
        "  return torch.sum(diff*diff)/diff.numel()"
      ],
      "execution_count": 10,
      "outputs": []
    },
    {
      "cell_type": "code",
      "metadata": {
        "colab": {
          "base_uri": "https://localhost:8080/"
        },
        "id": "r99rXuezBImM",
        "outputId": "6f3b86c5-cb82-4de1-9f16-3b438e5d1261"
      },
      "source": [
        "# Compute loss\n",
        "loss=mse(pred , targets)\n",
        "loss"
      ],
      "execution_count": 11,
      "outputs": [
        {
          "output_type": "execute_result",
          "data": {
            "text/plain": [
              "tensor(72300.9219, grad_fn=<DivBackward0>)"
            ]
          },
          "metadata": {},
          "execution_count": 11
        }
      ]
    },
    {
      "cell_type": "code",
      "metadata": {
        "id": "P3qPinN7D0Cu"
      },
      "source": [
        "loss.backward()"
      ],
      "execution_count": 12,
      "outputs": []
    },
    {
      "cell_type": "code",
      "metadata": {
        "colab": {
          "base_uri": "https://localhost:8080/"
        },
        "id": "qPQIVM_iBUsP",
        "outputId": "5c01ded1-92fd-459b-d66f-25a1a3977822"
      },
      "source": [
        "# Gradients for weights\n",
        "# تدريج الالوان \n",
        "print(w)\n",
        "print(w.grad)"
      ],
      "execution_count": 13,
      "outputs": [
        {
          "output_type": "stream",
          "name": "stdout",
          "text": [
            "tensor([[-0.2068, -1.3100, -0.7053],\n",
            "        [-0.7497, -0.8396, -0.8350]], requires_grad=True)\n",
            "tensor([[-20251.4902, -23288.5547, -14085.2002],\n",
            "        [-22788.0684, -25269.5840, -15511.5957]])\n"
          ]
        }
      ]
    },
    {
      "cell_type": "code",
      "metadata": {
        "colab": {
          "base_uri": "https://localhost:8080/"
        },
        "id": "p-mfV9IhDtMg",
        "outputId": "3177a3ae-c776-48d2-da22-e1ba061abb5d"
      },
      "source": [
        "w\n",
        "print(w.grad)"
      ],
      "execution_count": 14,
      "outputs": [
        {
          "output_type": "stream",
          "name": "stdout",
          "text": [
            "tensor([[-20251.4902, -23288.5547, -14085.2002],\n",
            "        [-22788.0684, -25269.5840, -15511.5957]])\n"
          ]
        }
      ]
    },
    {
      "cell_type": "code",
      "metadata": {
        "id": "wPem6PDoEIRd"
      },
      "source": [
        "with torch.no_grad():\n",
        "    w -= w.grad * 1e-5\n",
        "    b -= b.grad * 1e-5"
      ],
      "execution_count": 15,
      "outputs": []
    },
    {
      "cell_type": "code",
      "metadata": {
        "id": "quczQhlSE7cU",
        "colab": {
          "base_uri": "https://localhost:8080/"
        },
        "outputId": "afeaa1c7-14ff-4d02-8333-1e31d3d41297"
      },
      "source": [
        "# Let's verify that the loss is actually lower\n",
        "# دعنا نتحقق اولا من ان الخسار هي اقل بالفعل \n",
        "loss=mse(pred , targets)\n",
        "print(loss)"
      ],
      "execution_count": 16,
      "outputs": [
        {
          "output_type": "stream",
          "name": "stdout",
          "text": [
            "tensor(72300.9219, grad_fn=<DivBackward0>)\n"
          ]
        }
      ]
    },
    {
      "cell_type": "code",
      "metadata": {
        "colab": {
          "base_uri": "https://localhost:8080/"
        },
        "id": "sZkgGEew4p99",
        "outputId": "bf3bc3d1-e83c-451d-9979-b53019a7c23b"
      },
      "source": [
        "# الان سنعمل علي تحويل التدرجات الي القيمه الصفريه وذلم استعدادا لاعاده العمليه مره اخري \n",
        "\n",
        "w.grad.zero_()\n",
        "b.grad.zero_()\n",
        "print(w.grad)\n",
        "print(b.grad)"
      ],
      "execution_count": 17,
      "outputs": [
        {
          "output_type": "stream",
          "name": "stdout",
          "text": [
            "tensor([[0., 0., 0.],\n",
            "        [0., 0., 0.]])\n",
            "tensor([[0., 0.]])\n"
          ]
        }
      ]
    },
    {
      "cell_type": "code",
      "metadata": {
        "colab": {
          "base_uri": "https://localhost:8080/"
        },
        "id": "oPbM37Ph6Ja9",
        "outputId": "eadb188a-81c1-4d50-acab-1dd733d651c3"
      },
      "source": [
        "# الان سنبدا في تنفيذ العمليات بالترتيب .\n",
        "# الخطوه الاولي \n",
        "# حساب التوقعات / التنبؤات \n",
        "preds=model(inputs)\n",
        "print(preds)"
      ],
      "execution_count": 18,
      "outputs": [
        {
          "output_type": "stream",
          "name": "stdout",
          "text": [
            "tensor([[ -96.8358, -106.8652],\n",
            "        [-131.3856, -142.8625],\n",
            "        [-177.5273, -163.6942],\n",
            "        [ -67.7228, -103.8329],\n",
            "        [-143.2952, -140.1569]], grad_fn=<AddBackward0>)\n"
          ]
        }
      ]
    },
    {
      "cell_type": "code",
      "metadata": {
        "colab": {
          "base_uri": "https://localhost:8080/"
        },
        "id": "W40wTo7V7Qsd",
        "outputId": "bb5f8d00-26ec-456d-b914-10077ed5ee08"
      },
      "source": [
        "# الخطوه الثانيه \n",
        "# حساب معدل الجوده او حساب متوسط الخطا التربيعي \n",
        "loss=mse(targets , preds)\n",
        "print(loss)"
      ],
      "execution_count": 19,
      "outputs": [
        {
          "output_type": "stream",
          "name": "stdout",
          "text": [
            "tensor(49088.0273, grad_fn=<DivBackward0>)\n"
          ]
        }
      ]
    },
    {
      "cell_type": "code",
      "metadata": {
        "colab": {
          "base_uri": "https://localhost:8080/"
        },
        "id": "eL9Vjsgb7sFj",
        "outputId": "31551c5b-0671-47d5-961a-ab79925f9ba0"
      },
      "source": [
        "# الخطوه الثالثه \n",
        "# حساب التدرجات للاوزان والتحيزات \n",
        "loss.backward()\n",
        "print(w.grad)\n",
        "print(b.grad)"
      ],
      "execution_count": 20,
      "outputs": [
        {
          "output_type": "stream",
          "name": "stdout",
          "text": [
            "tensor([[-16485.6172, -19233.4062, -11584.7236],\n",
            "        [-18632.3672, -20800.3555, -12754.4941]])\n",
            "tensor([[-199.5534, -223.4824]])\n"
          ]
        }
      ]
    },
    {
      "cell_type": "code",
      "metadata": {
        "id": "rhfY40FI8rVT"
      },
      "source": [
        "# Let's update the weights and biases using the gradients computed above.\n",
        "#  الان ساقوم بتحديث الاوزان \n",
        "\n",
        "with torch.no_grad():\n",
        "  w -= w.grad * 1e-5\n",
        "  b -= b.grad * 1e-5\n",
        "  w.grad.zero_()\n",
        "  b.grad.zero_()"
      ],
      "execution_count": 21,
      "outputs": []
    },
    {
      "cell_type": "code",
      "metadata": {
        "colab": {
          "base_uri": "https://localhost:8080/"
        },
        "id": "dtzE7bOE_uPx",
        "outputId": "873f456e-447d-4bec-8ef7-38c77bd8dcaa"
      },
      "source": [
        "print(w)\n",
        "print('-------------------')\n",
        "print(b)"
      ],
      "execution_count": 22,
      "outputs": [
        {
          "output_type": "stream",
          "name": "stdout",
          "text": [
            "tensor([[ 0.1606, -0.8847, -0.4486],\n",
            "        [-0.3355, -0.3789, -0.5524]], requires_grad=True)\n",
            "-------------------\n",
            "tensor([[-0.0847, -0.2068]], requires_grad=True)\n"
          ]
        }
      ]
    },
    {
      "cell_type": "code",
      "metadata": {
        "colab": {
          "base_uri": "https://localhost:8080/"
        },
        "id": "YelPOTFTARAB",
        "outputId": "375827e3-668e-45e2-9b1f-e84c696fce6f"
      },
      "source": [
        "# With the new weights and biases, the model should have a lower loss.\n",
        "# مع الاوزان والتحيزات الجديده لابد من ان يكون قيمه الخطا اقل \n",
        "# لذا من اجل التاكد عينا حساب التوقعات وبعدها حساب عدل / معادله الخطا \n",
        "\n",
        "prediction=model(inputs)\n",
        "print(prediction)\n",
        "print('--------------------------')\n",
        "loss=mse(targets , prediction)\n",
        "print(loss)"
      ],
      "execution_count": 24,
      "outputs": [
        {
          "output_type": "stream",
          "name": "stdout",
          "text": [
            "tensor([[ -66.9315,  -73.8407],\n",
            "        [ -92.0421,  -99.4377],\n",
            "        [-130.6910, -112.2117],\n",
            "        [ -38.3488,  -71.1624],\n",
            "        [-105.3448,  -98.4018]], grad_fn=<AddBackward0>)\n",
            "--------------------------\n",
            "tensor(33440.7617, grad_fn=<DivBackward0>)\n"
          ]
        }
      ]
    },
    {
      "cell_type": "markdown",
      "metadata": {
        "id": "phktfcMxBxV3"
      },
      "source": [
        "## Train for multiple epochs\n"
      ]
    },
    {
      "cell_type": "code",
      "metadata": {
        "id": "go5PURK6A7Ny"
      },
      "source": [
        "# هذا اللوب بعمل علي تنفيذ العمليات السابقه ما يصل الي 100 مره وفي كل مره يعمل علي حساب معادله الخطا \n",
        "for i in range(100):\n",
        "  prediction=model(inputs)\n",
        "  loss=mse(targets , prediction)\n",
        "  loss.backward()\n",
        "  with torch.no_grad():\n",
        "    w -= w.grad * 1e-5\n",
        "    b -= b.grad * 1e-5\n",
        "    w.grad.zero_()\n",
        "    b.grad.zero_()"
      ],
      "execution_count": 26,
      "outputs": []
    },
    {
      "cell_type": "code",
      "metadata": {
        "colab": {
          "base_uri": "https://localhost:8080/"
        },
        "id": "p_3Le2VFCCls",
        "outputId": "b5cf202f-c56c-4447-c8dd-d8f5f2874808"
      },
      "source": [
        "prediction=model(inputs)\n",
        "loss=mse(targets , prediction)\n",
        "print(loss)"
      ],
      "execution_count": 27,
      "outputs": [
        {
          "output_type": "stream",
          "name": "stdout",
          "text": [
            "tensor(75.4769, grad_fn=<DivBackward0>)\n"
          ]
        }
      ]
    },
    {
      "cell_type": "code",
      "metadata": {
        "colab": {
          "base_uri": "https://localhost:8080/"
        },
        "id": "A6_j98hRC-Wm",
        "outputId": "0667ef31-6525-4f3c-aee6-57a012ee231f"
      },
      "source": [
        "prediction"
      ],
      "execution_count": 28,
      "outputs": [
        {
          "output_type": "execute_result",
          "data": {
            "text/plain": [
              "tensor([[ 59.9936,  72.1723],\n",
              "        [ 81.1275,  96.6057],\n",
              "        [116.6004, 139.2063],\n",
              "        [ 37.3000,  47.5023],\n",
              "        [ 90.5619, 105.9078]], grad_fn=<AddBackward0>)"
            ]
          },
          "metadata": {},
          "execution_count": 28
        }
      ]
    },
    {
      "cell_type": "code",
      "metadata": {
        "colab": {
          "base_uri": "https://localhost:8080/"
        },
        "id": "8wwlUc6-DkY-",
        "outputId": "98a87ce8-11a8-4455-8545-ccc170cc9ed1"
      },
      "source": [
        "targets"
      ],
      "execution_count": 29,
      "outputs": [
        {
          "output_type": "execute_result",
          "data": {
            "text/plain": [
              "tensor([[ 56.,  70.],\n",
              "        [ 81., 101.],\n",
              "        [119., 133.],\n",
              "        [ 22.,  37.],\n",
              "        [103., 119.]])"
            ]
          },
          "metadata": {},
          "execution_count": 29
        }
      ]
    },
    {
      "cell_type": "code",
      "metadata": {
        "id": "1RN-GwfSDmYs"
      },
      "source": [
        "import torch.nn as nn"
      ],
      "execution_count": 30,
      "outputs": []
    },
    {
      "cell_type": "code",
      "metadata": {
        "id": "cmo1yAFVHsFO"
      },
      "source": [
        "# Input (temp, rainfall, humidity)\n",
        "inputs = np.array([[73, 67, 43], \n",
        "                   [91, 88, 64], \n",
        "                   [87, 134, 58], \n",
        "                   [102, 43, 37], \n",
        "                   [69, 96, 70], \n",
        "                   [74, 66, 43], \n",
        "                   [91, 87, 65], \n",
        "                   [88, 134, 59], \n",
        "                   [101, 44, 37], \n",
        "                   [68, 96, 71], \n",
        "                   [73, 66, 44], \n",
        "                   [92, 87, 64], \n",
        "                   [87, 135, 57], \n",
        "                   [103, 43, 36], \n",
        "                   [68, 97, 70]], \n",
        "                  dtype='float32')\n",
        "\n",
        "# Targets (apples, oranges)\n",
        "targets = np.array([[56, 70], \n",
        "                    [81, 101], \n",
        "                    [119, 133], \n",
        "                    [22, 37], \n",
        "                    [103, 119],\n",
        "                    [57, 69], \n",
        "                    [80, 102], \n",
        "                    [118, 132], \n",
        "                    [21, 38], \n",
        "                    [104, 118], \n",
        "                    [57, 69], \n",
        "                    [82, 100], \n",
        "                    [118, 134], \n",
        "                    [20, 38], \n",
        "                    [102, 120]], \n",
        "                   dtype='float32')"
      ],
      "execution_count": 31,
      "outputs": []
    },
    {
      "cell_type": "code",
      "metadata": {
        "id": "GHtAiFA5IOZZ"
      },
      "source": [
        "inputs=torch.from_numpy(inputs)\n",
        "targets=torch.from_numpy(targets)"
      ],
      "execution_count": 32,
      "outputs": []
    },
    {
      "cell_type": "code",
      "metadata": {
        "colab": {
          "base_uri": "https://localhost:8080/"
        },
        "id": "gGoFTiJYIipD",
        "outputId": "5618cc56-0e0e-4550-8a77-41966bafc189"
      },
      "source": [
        "print(inputs)\n",
        "print('---------------------------------------')\n",
        "print(targets)"
      ],
      "execution_count": 33,
      "outputs": [
        {
          "output_type": "stream",
          "name": "stdout",
          "text": [
            "tensor([[ 73.,  67.,  43.],\n",
            "        [ 91.,  88.,  64.],\n",
            "        [ 87., 134.,  58.],\n",
            "        [102.,  43.,  37.],\n",
            "        [ 69.,  96.,  70.],\n",
            "        [ 74.,  66.,  43.],\n",
            "        [ 91.,  87.,  65.],\n",
            "        [ 88., 134.,  59.],\n",
            "        [101.,  44.,  37.],\n",
            "        [ 68.,  96.,  71.],\n",
            "        [ 73.,  66.,  44.],\n",
            "        [ 92.,  87.,  64.],\n",
            "        [ 87., 135.,  57.],\n",
            "        [103.,  43.,  36.],\n",
            "        [ 68.,  97.,  70.]])\n",
            "---------------------------------------\n",
            "tensor([[ 56.,  70.],\n",
            "        [ 81., 101.],\n",
            "        [119., 133.],\n",
            "        [ 22.,  37.],\n",
            "        [103., 119.],\n",
            "        [ 57.,  69.],\n",
            "        [ 80., 102.],\n",
            "        [118., 132.],\n",
            "        [ 21.,  38.],\n",
            "        [104., 118.],\n",
            "        [ 57.,  69.],\n",
            "        [ 82., 100.],\n",
            "        [118., 134.],\n",
            "        [ 20.,  38.],\n",
            "        [102., 120.]])\n"
          ]
        }
      ]
    },
    {
      "cell_type": "markdown",
      "metadata": {
        "id": "J4aQCh1IJROT"
      },
      "source": [
        "## Dataset and DataLoader\n"
      ]
    },
    {
      "cell_type": "code",
      "metadata": {
        "id": "tagxM6zOIqbi"
      },
      "source": [
        "from torch.utils.data import TensorDataset"
      ],
      "execution_count": 34,
      "outputs": []
    },
    {
      "cell_type": "code",
      "metadata": {
        "colab": {
          "base_uri": "https://localhost:8080/"
        },
        "id": "tRQLLy7xJiv6",
        "outputId": "2213063d-0fa5-4552-b954-248870714799"
      },
      "source": [
        "train_data=TensorDataset(inputs , targets)\n",
        "train_data[:]"
      ],
      "execution_count": 37,
      "outputs": [
        {
          "output_type": "execute_result",
          "data": {
            "text/plain": [
              "(tensor([[ 73.,  67.,  43.],\n",
              "         [ 91.,  88.,  64.],\n",
              "         [ 87., 134.,  58.],\n",
              "         [102.,  43.,  37.],\n",
              "         [ 69.,  96.,  70.],\n",
              "         [ 74.,  66.,  43.],\n",
              "         [ 91.,  87.,  65.],\n",
              "         [ 88., 134.,  59.],\n",
              "         [101.,  44.,  37.],\n",
              "         [ 68.,  96.,  71.],\n",
              "         [ 73.,  66.,  44.],\n",
              "         [ 92.,  87.,  64.],\n",
              "         [ 87., 135.,  57.],\n",
              "         [103.,  43.,  36.],\n",
              "         [ 68.,  97.,  70.]]), tensor([[ 56.,  70.],\n",
              "         [ 81., 101.],\n",
              "         [119., 133.],\n",
              "         [ 22.,  37.],\n",
              "         [103., 119.],\n",
              "         [ 57.,  69.],\n",
              "         [ 80., 102.],\n",
              "         [118., 132.],\n",
              "         [ 21.,  38.],\n",
              "         [104., 118.],\n",
              "         [ 57.,  69.],\n",
              "         [ 82., 100.],\n",
              "         [118., 134.],\n",
              "         [ 20.,  38.],\n",
              "         [102., 120.]]))"
            ]
          },
          "metadata": {},
          "execution_count": 37
        }
      ]
    },
    {
      "cell_type": "code",
      "metadata": {
        "id": "dUKUsMfXKDOC"
      },
      "source": [
        "# الان نحن بحاجه الي تقسيم تلك البيانات التي لدينا \n",
        "# من اجل تنفيذ ذلك سنفوم بعمل التالي \n",
        "\n",
        "from torch.utils.data import DataLoader\n",
        "\n",
        "# تعريف اللودر / مقسم البيانات \n",
        "# Define data loader\n",
        "batch_size = 5\n",
        "train_dl = DataLoader(train_data, batch_size, shuffle=True)"
      ],
      "execution_count": 47,
      "outputs": []
    },
    {
      "cell_type": "code",
      "metadata": {
        "colab": {
          "base_uri": "https://localhost:8080/"
        },
        "id": "k98NwbyEMBtf",
        "outputId": "50906508-e3da-444f-b30d-ed18763dc489"
      },
      "source": [
        "for x_data, y_data in train_dl:\n",
        "  print(x_data)\n",
        "  print(y_data)\n",
        "  break"
      ],
      "execution_count": 48,
      "outputs": [
        {
          "output_type": "stream",
          "name": "stdout",
          "text": [
            "tensor([[ 68.,  96.,  71.],\n",
            "        [102.,  43.,  37.],\n",
            "        [ 87., 135.,  57.],\n",
            "        [ 91.,  87.,  65.],\n",
            "        [ 69.,  96.,  70.]])\n",
            "tensor([[104., 118.],\n",
            "        [ 22.,  37.],\n",
            "        [118., 134.],\n",
            "        [ 80., 102.],\n",
            "        [103., 119.]])\n"
          ]
        }
      ]
    },
    {
      "cell_type": "code",
      "metadata": {
        "colab": {
          "base_uri": "https://localhost:8080/"
        },
        "id": "gKFcD9NwMDgO",
        "outputId": "f40eaa20-5e0f-4e4a-fc67-5c743a621f24"
      },
      "source": [
        "model=nn.Linear(3 , 2)\n",
        "print(model.weight)\n",
        "print(model.bias)\n",
        "# تلك التعلميه تعرض كل الاووزان والتحيزات في الموديل الخاص بنا "
      ],
      "execution_count": 51,
      "outputs": [
        {
          "output_type": "stream",
          "name": "stdout",
          "text": [
            "Parameter containing:\n",
            "tensor([[ 0.0185,  0.5534,  0.5401],\n",
            "        [ 0.4592,  0.3851, -0.0052]], requires_grad=True)\n",
            "Parameter containing:\n",
            "tensor([-0.1692, -0.4032], requires_grad=True)\n"
          ]
        }
      ]
    },
    {
      "cell_type": "code",
      "metadata": {
        "colab": {
          "base_uri": "https://localhost:8080/"
        },
        "id": "sZxMf86WOQ-_",
        "outputId": "92d5f763-a66d-43ea-8245-c0ba0f1845ef"
      },
      "source": [
        "list(model.parameters())"
      ],
      "execution_count": 52,
      "outputs": [
        {
          "output_type": "execute_result",
          "data": {
            "text/plain": [
              "[Parameter containing:\n",
              " tensor([[ 0.0185,  0.5534,  0.5401],\n",
              "         [ 0.4592,  0.3851, -0.0052]], requires_grad=True),\n",
              " Parameter containing:\n",
              " tensor([-0.1692, -0.4032], requires_grad=True)]"
            ]
          },
          "metadata": {},
          "execution_count": 52
        }
      ]
    },
    {
      "cell_type": "code",
      "metadata": {
        "colab": {
          "base_uri": "https://localhost:8080/"
        },
        "id": "jQhVMpHHPh_J",
        "outputId": "78ced2f4-ced2-4d59-a8ce-877e6f7e3d2e"
      },
      "source": [
        "# الان ساقوم بعمل الموديل / التنبؤ الفعلي بالقيم \n",
        "\n",
        "prediction=model(inputs)\n",
        "prediction"
      ],
      "execution_count": 53,
      "outputs": [
        {
          "output_type": "execute_result",
          "data": {
            "text/plain": [
              "tensor([[ 61.4820,  58.6944],\n",
              "        [ 84.7779,  74.9369],\n",
              "        [106.9184,  90.8444],\n",
              "        [ 45.4973,  62.8018],\n",
              "        [ 92.0381,  67.8831],\n",
              "        [ 60.9471,  58.7686],\n",
              "        [ 84.7646,  74.5466],\n",
              "        [107.4770,  91.2984],\n",
              "        [ 46.0322,  62.7277],\n",
              "        [ 92.5597,  67.4186],\n",
              "        [ 61.4687,  58.3041],\n",
              "        [ 84.2430,  75.0111],\n",
              "        [106.9317,  91.2347],\n",
              "        [ 44.9757,  63.2663],\n",
              "        [ 92.5730,  67.8089]], grad_fn=<AddmmBackward>)"
            ]
          },
          "metadata": {},
          "execution_count": 53
        }
      ]
    },
    {
      "cell_type": "markdown",
      "metadata": {
        "id": "jCGtjRm0ReCD"
      },
      "source": [
        "## Loss Function\n"
      ]
    },
    {
      "cell_type": "code",
      "metadata": {
        "colab": {
          "base_uri": "https://localhost:8080/"
        },
        "id": "mF-ArWCqQWNV",
        "outputId": "3f5cfed6-5ac8-48bd-f4e5-fa2a42770ce2"
      },
      "source": [
        "# سنقوم باستدعاء داله السار المصمنه في المكتبه والجاهزه مباشره \n",
        "# للقيام بذلك سنقوم باجراء التالي :\n",
        "import torch.nn.functional as F\n",
        "\n",
        "# Define loss function\n",
        "# قمنا بتحديد نوع معادله الخطا الخاص بنا \n",
        "loss_fn = F.mse_loss\n",
        "# محاوله يائسه لطباعتها\n",
        "print(loss_fn)"
      ],
      "execution_count": 56,
      "outputs": [
        {
          "output_type": "stream",
          "name": "stdout",
          "text": [
            "<function mse_loss at 0x7f2c088e80e0>\n"
          ]
        }
      ]
    },
    {
      "cell_type": "code",
      "metadata": {
        "colab": {
          "base_uri": "https://localhost:8080/"
        },
        "id": "TTM6XkQRRu11",
        "outputId": "a4b6e24a-f092-4230-c1f7-3a8c3995f23f"
      },
      "source": [
        "# الان سنعمل علي تطبيق تلك المعادله علي الموديل الخاص بنا \n",
        "# نلاحظ هنا اننا قمنا باعطاء المعادله جزئين الاو وهو تنبؤ الموديل الخاص بنا والثاني هو النتائج التي من المفترض ان نحصل عليها\n",
        "loss=loss_fn(model(inputs) , targets)\n",
        "# وفي النتائج سنحصل علي رقم واحد والذي هو من المفترض ان يكشف عن جوده الموديل الخاص بنا \n",
        "print(loss)"
      ],
      "execution_count": 58,
      "outputs": [
        {
          "output_type": "stream",
          "name": "stdout",
          "text": [
            "tensor(670.2352, grad_fn=<MseLossBackward>)\n"
          ]
        }
      ]
    },
    {
      "cell_type": "markdown",
      "metadata": {
        "id": "m-yosJ-oYKLM"
      },
      "source": [
        "## Optimizer"
      ]
    },
    {
      "cell_type": "code",
      "metadata": {
        "id": "2GS2DSJvS2Bm"
      },
      "source": [
        "opt=torch.optim.SGD(model.parameters(), lr=1e-5)"
      ],
      "execution_count": 59,
      "outputs": []
    },
    {
      "cell_type": "code",
      "metadata": {
        "colab": {
          "base_uri": "https://localhost:8080/"
        },
        "id": "OYBsV0sRYhiM",
        "outputId": "5fd986b2-91bc-411d-cdf8-3949fe947551"
      },
      "source": [
        "opt"
      ],
      "execution_count": 60,
      "outputs": [
        {
          "output_type": "execute_result",
          "data": {
            "text/plain": [
              "SGD (\n",
              "Parameter Group 0\n",
              "    dampening: 0\n",
              "    lr: 1e-05\n",
              "    momentum: 0\n",
              "    nesterov: False\n",
              "    weight_decay: 0\n",
              ")"
            ]
          },
          "metadata": {},
          "execution_count": 60
        }
      ]
    },
    {
      "cell_type": "code",
      "metadata": {
        "id": "xO6bx6MgYiwE"
      },
      "source": [
        "# Utility function to train the model\n",
        "def fit(num_epochs, model, loss_fn, opt, train_dl):\n",
        "    \n",
        "    # Repeat for given number of epochs\n",
        "    for epoch in range(num_epochs):\n",
        "        \n",
        "        # Train with batches of data\n",
        "        for xb,yb in train_dl:\n",
        "            \n",
        "            # 1. Generate predictions\n",
        "            pred = model(xb)\n",
        "            \n",
        "            # 2. Calculate loss\n",
        "            loss = loss_fn(pred, yb)\n",
        "            \n",
        "            # 3. Compute gradients\n",
        "            loss.backward()\n",
        "            \n",
        "            # 4. Update parameters using gradients\n",
        "            opt.step()\n",
        "            \n",
        "            # 5. Reset the gradients to zero\n",
        "            opt.zero_grad()\n",
        "        \n",
        "        # Print the progress\n",
        "        if (epoch+1) % 10 == 0:\n",
        "            print('Epoch [{}/{}], Loss: {:.4f}'.format(epoch+1, num_epochs, loss.item()))"
      ],
      "execution_count": 61,
      "outputs": []
    },
    {
      "cell_type": "code",
      "metadata": {
        "colab": {
          "base_uri": "https://localhost:8080/"
        },
        "id": "c15_N5SnZaB2",
        "outputId": "2aa2fabc-1553-45f5-91e6-f34418ed6b3f"
      },
      "source": [
        "fit(100, model, loss_fn, opt, train_dl)"
      ],
      "execution_count": 62,
      "outputs": [
        {
          "output_type": "stream",
          "name": "stdout",
          "text": [
            "Epoch [10/100], Loss: 396.4239\n",
            "Epoch [20/100], Loss: 73.9321\n",
            "Epoch [30/100], Loss: 200.3985\n",
            "Epoch [40/100], Loss: 136.3679\n",
            "Epoch [50/100], Loss: 79.9463\n",
            "Epoch [60/100], Loss: 70.1204\n",
            "Epoch [70/100], Loss: 66.1902\n",
            "Epoch [80/100], Loss: 34.3103\n",
            "Epoch [90/100], Loss: 44.4963\n",
            "Epoch [100/100], Loss: 27.1435\n"
          ]
        }
      ]
    },
    {
      "cell_type": "code",
      "metadata": {
        "colab": {
          "base_uri": "https://localhost:8080/"
        },
        "id": "VxsUbxBaZojl",
        "outputId": "4eb80d9c-88a7-476f-b7c1-91167c5942e3"
      },
      "source": [
        "# الان لنبدا بالتنبؤ للوديل الخاص بنا \n",
        "# Generate predictions\n",
        "preds = model(inputs)\n",
        "preds"
      ],
      "execution_count": 63,
      "outputs": [
        {
          "output_type": "execute_result",
          "data": {
            "text/plain": [
              "tensor([[ 57.5688,  72.0325],\n",
              "        [ 81.8194,  97.4662],\n",
              "        [117.6077, 138.5601],\n",
              "        [ 24.5740,  46.1234],\n",
              "        [ 99.2697, 108.0902],\n",
              "        [ 56.4136,  71.0462],\n",
              "        [ 81.5968,  96.8621],\n",
              "        [117.8872, 138.8322],\n",
              "        [ 25.7292,  47.1097],\n",
              "        [100.2023, 108.4724],\n",
              "        [ 57.3462,  71.4284],\n",
              "        [ 80.6641,  96.4799],\n",
              "        [117.8303, 139.1643],\n",
              "        [ 23.6413,  45.7413],\n",
              "        [100.4249, 109.0765]], grad_fn=<AddmmBackward>)"
            ]
          },
          "metadata": {},
          "execution_count": 63
        }
      ]
    },
    {
      "cell_type": "code",
      "metadata": {
        "colab": {
          "base_uri": "https://localhost:8080/"
        },
        "id": "qdXIWSYQaHwH",
        "outputId": "f3c563d5-fc12-4ba0-dac5-9bdbf3572646"
      },
      "source": [
        "print(targets)"
      ],
      "execution_count": 64,
      "outputs": [
        {
          "output_type": "stream",
          "name": "stdout",
          "text": [
            "tensor([[ 56.,  70.],\n",
            "        [ 81., 101.],\n",
            "        [119., 133.],\n",
            "        [ 22.,  37.],\n",
            "        [103., 119.],\n",
            "        [ 57.,  69.],\n",
            "        [ 80., 102.],\n",
            "        [118., 132.],\n",
            "        [ 21.,  38.],\n",
            "        [104., 118.],\n",
            "        [ 57.,  69.],\n",
            "        [ 82., 100.],\n",
            "        [118., 134.],\n",
            "        [ 20.,  38.],\n",
            "        [102., 120.]])\n"
          ]
        }
      ]
    },
    {
      "cell_type": "code",
      "metadata": {
        "colab": {
          "base_uri": "https://localhost:8080/"
        },
        "id": "2Xh2AjuoaMOU",
        "outputId": "54040969-1893-40b6-87dc-82107cabbc65"
      },
      "source": [
        "# هنا نقوم بادخال ارقام لتنبؤ \n",
        "model(torch.tensor([[75, 63, 44.]]))"
      ],
      "execution_count": 65,
      "outputs": [
        {
          "output_type": "execute_result",
          "data": {
            "text/plain": [
              "tensor([[54.2071, 68.5245]], grad_fn=<AddmmBackward>)"
            ]
          },
          "metadata": {},
          "execution_count": 65
        }
      ]
    },
    {
      "cell_type": "code",
      "metadata": {
        "id": "IXSj8dD3a_KV"
      },
      "source": [
        ""
      ],
      "execution_count": null,
      "outputs": []
    }
  ]
}