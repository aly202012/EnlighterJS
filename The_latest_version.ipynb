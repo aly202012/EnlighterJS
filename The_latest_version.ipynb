{
  "nbformat": 4,
  "nbformat_minor": 0,
  "metadata": {
    "colab": {
      "name": "The latest version.ipynb",
      "provenance": [],
      "authorship_tag": "ABX9TyNOqTrNYtSj4HGL0maXm9cz",
      "include_colab_link": true
    },
    "kernelspec": {
      "name": "python3",
      "display_name": "Python 3"
    },
    "language_info": {
      "name": "python"
    }
  },
  "cells": [
    {
      "cell_type": "markdown",
      "metadata": {
        "id": "view-in-github",
        "colab_type": "text"
      },
      "source": [
        "<a href=\"https://colab.research.google.com/github/aly202012/EnlighterJS/blob/master/The_latest_version.ipynb\" target=\"_parent\"><img src=\"https://colab.research.google.com/assets/colab-badge.svg\" alt=\"Open In Colab\"/></a>"
      ]
    },
    {
      "cell_type": "markdown",
      "metadata": {
        "id": "bxRuQiQLtAnP"
      },
      "source": [
        "# Calling some important libraries"
      ]
    },
    {
      "cell_type": "code",
      "metadata": {
        "id": "R000fXmfymTC"
      },
      "source": [
        "import numpy as np \n",
        "import pandas as pd \n",
        "import seaborn as sns \n",
        "import matplotlib.pyplot as plt\n",
        "%matplotlib inline\n",
        "import warnings\n",
        "warnings.filterwarnings('ignore')\n",
        "import matplotlib\n",
        "%matplotlib inline\n",
        "matplotlib.rcParams['figure.figsize'] = (8,5)"
      ],
      "execution_count": 1,
      "outputs": []
    },
    {
      "cell_type": "markdown",
      "metadata": {
        "id": "9qUnqhf-tD-K"
      },
      "source": [
        "# reading data"
      ]
    },
    {
      "cell_type": "code",
      "metadata": {
        "id": "5eng3Q4kcBLQ"
      },
      "source": [
        "data=pd.read_csv('/content/marwa.csv')"
      ],
      "execution_count": 2,
      "outputs": []
    },
    {
      "cell_type": "code",
      "metadata": {
        "colab": {
          "base_uri": "https://localhost:8080/"
        },
        "id": "kdNvwyUVcG_O",
        "outputId": "55464ce8-c32e-4800-c88b-8839fc56d09a"
      },
      "source": [
        "data.shape"
      ],
      "execution_count": 3,
      "outputs": [
        {
          "output_type": "execute_result",
          "data": {
            "text/plain": [
              "(1120, 18)"
            ]
          },
          "metadata": {},
          "execution_count": 3
        }
      ]
    },
    {
      "cell_type": "code",
      "metadata": {
        "colab": {
          "base_uri": "https://localhost:8080/",
          "height": 204
        },
        "id": "d9C8HD5ucO7g",
        "outputId": "a4e010ca-3d79-4657-d00d-97e1f10f38fe"
      },
      "source": [
        "data.head()"
      ],
      "execution_count": 4,
      "outputs": [
        {
          "output_type": "execute_result",
          "data": {
            "text/html": [
              "<div>\n",
              "<style scoped>\n",
              "    .dataframe tbody tr th:only-of-type {\n",
              "        vertical-align: middle;\n",
              "    }\n",
              "\n",
              "    .dataframe tbody tr th {\n",
              "        vertical-align: top;\n",
              "    }\n",
              "\n",
              "    .dataframe thead th {\n",
              "        text-align: right;\n",
              "    }\n",
              "</style>\n",
              "<table border=\"1\" class=\"dataframe\">\n",
              "  <thead>\n",
              "    <tr style=\"text-align: right;\">\n",
              "      <th></th>\n",
              "      <th>YEAR</th>\n",
              "      <th>Y</th>\n",
              "      <th>R1</th>\n",
              "      <th>R2</th>\n",
              "      <th>R3</th>\n",
              "      <th>R4</th>\n",
              "      <th>R5</th>\n",
              "      <th>R6</th>\n",
              "      <th>R7</th>\n",
              "      <th>R8</th>\n",
              "      <th>R9</th>\n",
              "      <th>R10</th>\n",
              "      <th>R11</th>\n",
              "      <th>R12</th>\n",
              "      <th>R13</th>\n",
              "      <th>R14</th>\n",
              "      <th>R15</th>\n",
              "      <th>R16</th>\n",
              "    </tr>\n",
              "  </thead>\n",
              "  <tbody>\n",
              "    <tr>\n",
              "      <th>0</th>\n",
              "      <td>2018</td>\n",
              "      <td>1</td>\n",
              "      <td>4.676</td>\n",
              "      <td>6.034</td>\n",
              "      <td>3.317</td>\n",
              "      <td>0.628</td>\n",
              "      <td>0.602</td>\n",
              "      <td>0.959</td>\n",
              "      <td>1.150</td>\n",
              "      <td>1.745</td>\n",
              "      <td>1.000</td>\n",
              "      <td>0.357</td>\n",
              "      <td>0.357</td>\n",
              "      <td>3.433</td>\n",
              "      <td>0.114</td>\n",
              "      <td>0.068</td>\n",
              "      <td>0.192</td>\n",
              "      <td>0.068</td>\n",
              "    </tr>\n",
              "    <tr>\n",
              "      <th>1</th>\n",
              "      <td>2017</td>\n",
              "      <td>1</td>\n",
              "      <td>4.849</td>\n",
              "      <td>5.824</td>\n",
              "      <td>3.862</td>\n",
              "      <td>0.667</td>\n",
              "      <td>0.571</td>\n",
              "      <td>0.856</td>\n",
              "      <td>1.033</td>\n",
              "      <td>1.291</td>\n",
              "      <td>1.000</td>\n",
              "      <td>0.383</td>\n",
              "      <td>0.383</td>\n",
              "      <td>3.343</td>\n",
              "      <td>0.152</td>\n",
              "      <td>0.087</td>\n",
              "      <td>0.226</td>\n",
              "      <td>0.087</td>\n",
              "    </tr>\n",
              "    <tr>\n",
              "      <th>2</th>\n",
              "      <td>2016</td>\n",
              "      <td>1</td>\n",
              "      <td>4.450</td>\n",
              "      <td>5.388</td>\n",
              "      <td>3.649</td>\n",
              "      <td>0.651</td>\n",
              "      <td>0.701</td>\n",
              "      <td>1.078</td>\n",
              "      <td>1.324</td>\n",
              "      <td>1.592</td>\n",
              "      <td>1.054</td>\n",
              "      <td>0.383</td>\n",
              "      <td>0.404</td>\n",
              "      <td>3.343</td>\n",
              "      <td>0.099</td>\n",
              "      <td>0.070</td>\n",
              "      <td>0.172</td>\n",
              "      <td>0.066</td>\n",
              "    </tr>\n",
              "    <tr>\n",
              "      <th>3</th>\n",
              "      <td>2015</td>\n",
              "      <td>1</td>\n",
              "      <td>8.124</td>\n",
              "      <td>9.276</td>\n",
              "      <td>6.541</td>\n",
              "      <td>0.816</td>\n",
              "      <td>0.750</td>\n",
              "      <td>0.919</td>\n",
              "      <td>1.030</td>\n",
              "      <td>1.303</td>\n",
              "      <td>1.000</td>\n",
              "      <td>0.687</td>\n",
              "      <td>0.687</td>\n",
              "      <td>7.807</td>\n",
              "      <td>0.105</td>\n",
              "      <td>0.079</td>\n",
              "      <td>0.115</td>\n",
              "      <td>0.079</td>\n",
              "    </tr>\n",
              "    <tr>\n",
              "      <th>4</th>\n",
              "      <td>2014</td>\n",
              "      <td>1</td>\n",
              "      <td>5.301</td>\n",
              "      <td>6.719</td>\n",
              "      <td>3.905</td>\n",
              "      <td>0.798</td>\n",
              "      <td>0.526</td>\n",
              "      <td>0.659</td>\n",
              "      <td>0.774</td>\n",
              "      <td>1.133</td>\n",
              "      <td>1.000</td>\n",
              "      <td>0.747</td>\n",
              "      <td>0.747</td>\n",
              "      <td>6.289</td>\n",
              "      <td>0.083</td>\n",
              "      <td>0.044</td>\n",
              "      <td>0.059</td>\n",
              "      <td>0.044</td>\n",
              "    </tr>\n",
              "  </tbody>\n",
              "</table>\n",
              "</div>"
            ],
            "text/plain": [
              "   YEAR  Y     R1     R2     R3  ...    R12    R13    R14    R15    R16\n",
              "0  2018  1  4.676  6.034  3.317  ...  3.433  0.114  0.068  0.192  0.068\n",
              "1  2017  1  4.849  5.824  3.862  ...  3.343  0.152  0.087  0.226  0.087\n",
              "2  2016  1  4.450  5.388  3.649  ...  3.343  0.099  0.070  0.172  0.066\n",
              "3  2015  1  8.124  9.276  6.541  ...  7.807  0.105  0.079  0.115  0.079\n",
              "4  2014  1  5.301  6.719  3.905  ...  6.289  0.083  0.044  0.059  0.044\n",
              "\n",
              "[5 rows x 18 columns]"
            ]
          },
          "metadata": {},
          "execution_count": 4
        }
      ]
    },
    {
      "cell_type": "code",
      "metadata": {
        "colab": {
          "base_uri": "https://localhost:8080/",
          "height": 204
        },
        "id": "sF1bSTfAcQUs",
        "outputId": "c2f21b84-0868-4345-a1f8-92ce7e7293f1"
      },
      "source": [
        "data.tail()"
      ],
      "execution_count": 5,
      "outputs": [
        {
          "output_type": "execute_result",
          "data": {
            "text/html": [
              "<div>\n",
              "<style scoped>\n",
              "    .dataframe tbody tr th:only-of-type {\n",
              "        vertical-align: middle;\n",
              "    }\n",
              "\n",
              "    .dataframe tbody tr th {\n",
              "        vertical-align: top;\n",
              "    }\n",
              "\n",
              "    .dataframe thead th {\n",
              "        text-align: right;\n",
              "    }\n",
              "</style>\n",
              "<table border=\"1\" class=\"dataframe\">\n",
              "  <thead>\n",
              "    <tr style=\"text-align: right;\">\n",
              "      <th></th>\n",
              "      <th>YEAR</th>\n",
              "      <th>Y</th>\n",
              "      <th>R1</th>\n",
              "      <th>R2</th>\n",
              "      <th>R3</th>\n",
              "      <th>R4</th>\n",
              "      <th>R5</th>\n",
              "      <th>R6</th>\n",
              "      <th>R7</th>\n",
              "      <th>R8</th>\n",
              "      <th>R9</th>\n",
              "      <th>R10</th>\n",
              "      <th>R11</th>\n",
              "      <th>R12</th>\n",
              "      <th>R13</th>\n",
              "      <th>R14</th>\n",
              "      <th>R15</th>\n",
              "      <th>R16</th>\n",
              "    </tr>\n",
              "  </thead>\n",
              "  <tbody>\n",
              "    <tr>\n",
              "      <th>1115</th>\n",
              "      <td>2015</td>\n",
              "      <td>0</td>\n",
              "      <td>1.550</td>\n",
              "      <td>2.424</td>\n",
              "      <td>0.375</td>\n",
              "      <td>0.331</td>\n",
              "      <td>0.129</td>\n",
              "      <td>0.389</td>\n",
              "      <td>0.663</td>\n",
              "      <td>2.518</td>\n",
              "      <td>1.0</td>\n",
              "      <td>0.343</td>\n",
              "      <td>0.343</td>\n",
              "      <td>2.514</td>\n",
              "      <td>-0.451</td>\n",
              "      <td>-0.058</td>\n",
              "      <td>-0.169</td>\n",
              "      <td>-0.058</td>\n",
              "    </tr>\n",
              "    <tr>\n",
              "      <th>1116</th>\n",
              "      <td>2014</td>\n",
              "      <td>0</td>\n",
              "      <td>0.926</td>\n",
              "      <td>1.854</td>\n",
              "      <td>0.066</td>\n",
              "      <td>0.258</td>\n",
              "      <td>0.114</td>\n",
              "      <td>0.443</td>\n",
              "      <td>0.961</td>\n",
              "      <td>12.520</td>\n",
              "      <td>1.0</td>\n",
              "      <td>0.444</td>\n",
              "      <td>0.444</td>\n",
              "      <td>3.198</td>\n",
              "      <td>-0.561</td>\n",
              "      <td>-0.064</td>\n",
              "      <td>-0.144</td>\n",
              "      <td>-0.064</td>\n",
              "    </tr>\n",
              "    <tr>\n",
              "      <th>1117</th>\n",
              "      <td>2013</td>\n",
              "      <td>0</td>\n",
              "      <td>0.872</td>\n",
              "      <td>1.518</td>\n",
              "      <td>0.117</td>\n",
              "      <td>0.310</td>\n",
              "      <td>0.128</td>\n",
              "      <td>0.415</td>\n",
              "      <td>1.216</td>\n",
              "      <td>5.380</td>\n",
              "      <td>1.0</td>\n",
              "      <td>0.199</td>\n",
              "      <td>0.199</td>\n",
              "      <td>0.977</td>\n",
              "      <td>-0.465</td>\n",
              "      <td>-0.060</td>\n",
              "      <td>-0.299</td>\n",
              "      <td>-0.060</td>\n",
              "    </tr>\n",
              "    <tr>\n",
              "      <th>1118</th>\n",
              "      <td>2012</td>\n",
              "      <td>0</td>\n",
              "      <td>0.000</td>\n",
              "      <td>0.000</td>\n",
              "      <td>0.000</td>\n",
              "      <td>0.000</td>\n",
              "      <td>0.000</td>\n",
              "      <td>0.000</td>\n",
              "      <td>0.000</td>\n",
              "      <td>0.000</td>\n",
              "      <td>0.0</td>\n",
              "      <td>0.000</td>\n",
              "      <td>0.000</td>\n",
              "      <td>0.000</td>\n",
              "      <td>0.000</td>\n",
              "      <td>0.000</td>\n",
              "      <td>0.000</td>\n",
              "      <td>0.000</td>\n",
              "    </tr>\n",
              "    <tr>\n",
              "      <th>1119</th>\n",
              "      <td>2011</td>\n",
              "      <td>0</td>\n",
              "      <td>0.000</td>\n",
              "      <td>0.000</td>\n",
              "      <td>0.000</td>\n",
              "      <td>0.000</td>\n",
              "      <td>0.000</td>\n",
              "      <td>0.000</td>\n",
              "      <td>0.000</td>\n",
              "      <td>0.000</td>\n",
              "      <td>0.0</td>\n",
              "      <td>0.000</td>\n",
              "      <td>0.000</td>\n",
              "      <td>0.000</td>\n",
              "      <td>0.000</td>\n",
              "      <td>0.000</td>\n",
              "      <td>0.000</td>\n",
              "      <td>0.000</td>\n",
              "    </tr>\n",
              "  </tbody>\n",
              "</table>\n",
              "</div>"
            ],
            "text/plain": [
              "      YEAR  Y     R1     R2     R3  ...    R12     R13    R14     R15    R16\n",
              "1115  2015  0  1.550  2.424  0.375  ...  2.514  -0.451 -0.058  -0.169 -0.058\n",
              "1116  2014  0  0.926  1.854  0.066  ...  3.198  -0.561 -0.064  -0.144 -0.064\n",
              "1117  2013  0  0.872  1.518  0.117  ...  0.977  -0.465 -0.060  -0.299 -0.060\n",
              "1118  2012  0  0.000  0.000  0.000  ...  0.000   0.000  0.000   0.000  0.000\n",
              "1119  2011  0  0.000  0.000  0.000  ...  0.000   0.000  0.000   0.000  0.000\n",
              "\n",
              "[5 rows x 18 columns]"
            ]
          },
          "metadata": {},
          "execution_count": 5
        }
      ]
    },
    {
      "cell_type": "code",
      "metadata": {
        "id": "5lNgn--7cTOE"
      },
      "source": [
        "# Here we get rid of the last two rows of data.\n",
        "data=data[:-2]"
      ],
      "execution_count": 6,
      "outputs": []
    },
    {
      "cell_type": "code",
      "metadata": {
        "colab": {
          "base_uri": "https://localhost:8080/",
          "height": 204
        },
        "id": "CkIHl3wMcXn0",
        "outputId": "04908b94-c30a-4723-fdc7-2249b38f4fab"
      },
      "source": [
        "data.tail()"
      ],
      "execution_count": 7,
      "outputs": [
        {
          "output_type": "execute_result",
          "data": {
            "text/html": [
              "<div>\n",
              "<style scoped>\n",
              "    .dataframe tbody tr th:only-of-type {\n",
              "        vertical-align: middle;\n",
              "    }\n",
              "\n",
              "    .dataframe tbody tr th {\n",
              "        vertical-align: top;\n",
              "    }\n",
              "\n",
              "    .dataframe thead th {\n",
              "        text-align: right;\n",
              "    }\n",
              "</style>\n",
              "<table border=\"1\" class=\"dataframe\">\n",
              "  <thead>\n",
              "    <tr style=\"text-align: right;\">\n",
              "      <th></th>\n",
              "      <th>YEAR</th>\n",
              "      <th>Y</th>\n",
              "      <th>R1</th>\n",
              "      <th>R2</th>\n",
              "      <th>R3</th>\n",
              "      <th>R4</th>\n",
              "      <th>R5</th>\n",
              "      <th>R6</th>\n",
              "      <th>R7</th>\n",
              "      <th>R8</th>\n",
              "      <th>R9</th>\n",
              "      <th>R10</th>\n",
              "      <th>R11</th>\n",
              "      <th>R12</th>\n",
              "      <th>R13</th>\n",
              "      <th>R14</th>\n",
              "      <th>R15</th>\n",
              "      <th>R16</th>\n",
              "    </tr>\n",
              "  </thead>\n",
              "  <tbody>\n",
              "    <tr>\n",
              "      <th>1113</th>\n",
              "      <td>2017</td>\n",
              "      <td>0</td>\n",
              "      <td>1.004</td>\n",
              "      <td>1.355</td>\n",
              "      <td>0.025</td>\n",
              "      <td>0.314</td>\n",
              "      <td>0.103</td>\n",
              "      <td>0.329</td>\n",
              "      <td>1.257</td>\n",
              "      <td>17.571</td>\n",
              "      <td>1.0</td>\n",
              "      <td>0.562</td>\n",
              "      <td>0.562</td>\n",
              "      <td>2.424</td>\n",
              "      <td>-0.351</td>\n",
              "      <td>-0.036</td>\n",
              "      <td>-0.065</td>\n",
              "      <td>-0.036</td>\n",
              "    </tr>\n",
              "    <tr>\n",
              "      <th>1114</th>\n",
              "      <td>2016</td>\n",
              "      <td>0</td>\n",
              "      <td>0.442</td>\n",
              "      <td>0.917</td>\n",
              "      <td>0.050</td>\n",
              "      <td>0.187</td>\n",
              "      <td>0.122</td>\n",
              "      <td>0.651</td>\n",
              "      <td>-7.161</td>\n",
              "      <td>12.033</td>\n",
              "      <td>1.0</td>\n",
              "      <td>0.510</td>\n",
              "      <td>0.510</td>\n",
              "      <td>2.501</td>\n",
              "      <td>-0.376</td>\n",
              "      <td>-0.046</td>\n",
              "      <td>-0.090</td>\n",
              "      <td>-0.046</td>\n",
              "    </tr>\n",
              "    <tr>\n",
              "      <th>1115</th>\n",
              "      <td>2015</td>\n",
              "      <td>0</td>\n",
              "      <td>1.550</td>\n",
              "      <td>2.424</td>\n",
              "      <td>0.375</td>\n",
              "      <td>0.331</td>\n",
              "      <td>0.129</td>\n",
              "      <td>0.389</td>\n",
              "      <td>0.663</td>\n",
              "      <td>2.518</td>\n",
              "      <td>1.0</td>\n",
              "      <td>0.343</td>\n",
              "      <td>0.343</td>\n",
              "      <td>2.514</td>\n",
              "      <td>-0.451</td>\n",
              "      <td>-0.058</td>\n",
              "      <td>-0.169</td>\n",
              "      <td>-0.058</td>\n",
              "    </tr>\n",
              "    <tr>\n",
              "      <th>1116</th>\n",
              "      <td>2014</td>\n",
              "      <td>0</td>\n",
              "      <td>0.926</td>\n",
              "      <td>1.854</td>\n",
              "      <td>0.066</td>\n",
              "      <td>0.258</td>\n",
              "      <td>0.114</td>\n",
              "      <td>0.443</td>\n",
              "      <td>0.961</td>\n",
              "      <td>12.520</td>\n",
              "      <td>1.0</td>\n",
              "      <td>0.444</td>\n",
              "      <td>0.444</td>\n",
              "      <td>3.198</td>\n",
              "      <td>-0.561</td>\n",
              "      <td>-0.064</td>\n",
              "      <td>-0.144</td>\n",
              "      <td>-0.064</td>\n",
              "    </tr>\n",
              "    <tr>\n",
              "      <th>1117</th>\n",
              "      <td>2013</td>\n",
              "      <td>0</td>\n",
              "      <td>0.872</td>\n",
              "      <td>1.518</td>\n",
              "      <td>0.117</td>\n",
              "      <td>0.310</td>\n",
              "      <td>0.128</td>\n",
              "      <td>0.415</td>\n",
              "      <td>1.216</td>\n",
              "      <td>5.380</td>\n",
              "      <td>1.0</td>\n",
              "      <td>0.199</td>\n",
              "      <td>0.199</td>\n",
              "      <td>0.977</td>\n",
              "      <td>-0.465</td>\n",
              "      <td>-0.060</td>\n",
              "      <td>-0.299</td>\n",
              "      <td>-0.060</td>\n",
              "    </tr>\n",
              "  </tbody>\n",
              "</table>\n",
              "</div>"
            ],
            "text/plain": [
              "      YEAR  Y     R1     R2     R3  ...    R12     R13    R14     R15    R16\n",
              "1113  2017  0  1.004  1.355  0.025  ...  2.424  -0.351 -0.036  -0.065 -0.036\n",
              "1114  2016  0  0.442  0.917  0.050  ...  2.501  -0.376 -0.046  -0.090 -0.046\n",
              "1115  2015  0  1.550  2.424  0.375  ...  2.514  -0.451 -0.058  -0.169 -0.058\n",
              "1116  2014  0  0.926  1.854  0.066  ...  3.198  -0.561 -0.064  -0.144 -0.064\n",
              "1117  2013  0  0.872  1.518  0.117  ...  0.977  -0.465 -0.060  -0.299 -0.060\n",
              "\n",
              "[5 rows x 18 columns]"
            ]
          },
          "metadata": {},
          "execution_count": 7
        }
      ]
    },
    {
      "cell_type": "code",
      "metadata": {
        "colab": {
          "base_uri": "https://localhost:8080/"
        },
        "id": "Ki-VwOJwcZak",
        "outputId": "a7eecbdb-e640-417a-cee9-cb21708bbae5"
      },
      "source": [
        "data.info()"
      ],
      "execution_count": 8,
      "outputs": [
        {
          "output_type": "stream",
          "name": "stdout",
          "text": [
            "<class 'pandas.core.frame.DataFrame'>\n",
            "RangeIndex: 1118 entries, 0 to 1117\n",
            "Data columns (total 18 columns):\n",
            " #   Column  Non-Null Count  Dtype  \n",
            "---  ------  --------------  -----  \n",
            " 0   YEAR    1118 non-null   int64  \n",
            " 1   Y       1118 non-null   int64  \n",
            " 2   R1      1118 non-null   object \n",
            " 3   R2      1118 non-null   object \n",
            " 4   R3      1118 non-null   float64\n",
            " 5   R4      1118 non-null   float64\n",
            " 6   R5      1118 non-null   float64\n",
            " 7   R6      1118 non-null   float64\n",
            " 8   R7      1118 non-null   object \n",
            " 9   R8      1118 non-null   object \n",
            " 10  R9      1118 non-null   float64\n",
            " 11  R10     1118 non-null   float64\n",
            " 12  R11     1118 non-null   float64\n",
            " 13  R12     1118 non-null   object \n",
            " 14  R13     1118 non-null   object \n",
            " 15  R14     1118 non-null   float64\n",
            " 16  R15     1118 non-null   object \n",
            " 17  R16     1118 non-null   float64\n",
            "dtypes: float64(9), int64(2), object(7)\n",
            "memory usage: 157.3+ KB\n"
          ]
        }
      ]
    },
    {
      "cell_type": "markdown",
      "metadata": {
        "id": "LBdM5VFkt1It"
      },
      "source": [
        "The data here has an error in the data type, so we must convert the data to the float type so that we do not have a problem while scaling."
      ]
    },
    {
      "cell_type": "code",
      "metadata": {
        "id": "Poi5aslecgm1"
      },
      "source": [
        "data=data.replace('[^\\d.]' , '' , regex=True ).astype(float)"
      ],
      "execution_count": 9,
      "outputs": []
    },
    {
      "cell_type": "code",
      "metadata": {
        "colab": {
          "base_uri": "https://localhost:8080/"
        },
        "id": "KT57egmGcj62",
        "outputId": "53de5d76-cac3-4031-c9ed-a2b7bcae1755"
      },
      "source": [
        "data.info()"
      ],
      "execution_count": 10,
      "outputs": [
        {
          "output_type": "stream",
          "name": "stdout",
          "text": [
            "<class 'pandas.core.frame.DataFrame'>\n",
            "RangeIndex: 1118 entries, 0 to 1117\n",
            "Data columns (total 18 columns):\n",
            " #   Column  Non-Null Count  Dtype  \n",
            "---  ------  --------------  -----  \n",
            " 0   YEAR    1118 non-null   float64\n",
            " 1   Y       1118 non-null   float64\n",
            " 2   R1      1118 non-null   float64\n",
            " 3   R2      1118 non-null   float64\n",
            " 4   R3      1118 non-null   float64\n",
            " 5   R4      1118 non-null   float64\n",
            " 6   R5      1118 non-null   float64\n",
            " 7   R6      1118 non-null   float64\n",
            " 8   R7      1118 non-null   float64\n",
            " 9   R8      1118 non-null   float64\n",
            " 10  R9      1118 non-null   float64\n",
            " 11  R10     1118 non-null   float64\n",
            " 12  R11     1118 non-null   float64\n",
            " 13  R12     1118 non-null   float64\n",
            " 14  R13     1118 non-null   float64\n",
            " 15  R14     1118 non-null   float64\n",
            " 16  R15     1118 non-null   float64\n",
            " 17  R16     1118 non-null   float64\n",
            "dtypes: float64(18)\n",
            "memory usage: 157.3 KB\n"
          ]
        }
      ]
    },
    {
      "cell_type": "code",
      "metadata": {
        "colab": {
          "base_uri": "https://localhost:8080/"
        },
        "id": "nJBsEfhZugX0",
        "outputId": "3b9a838d-3926-4d4f-ef6c-db2acd4850cb"
      },
      "source": [
        "# Here I get the number of values in each of our classes.\n",
        "data[\"Y\"].value_counts()"
      ],
      "execution_count": 38,
      "outputs": [
        {
          "output_type": "execute_result",
          "data": {
            "text/plain": [
              "1.00    594\n",
              "0.00    298\n",
              "Name: Y, dtype: int64"
            ]
          },
          "metadata": {},
          "execution_count": 38
        }
      ]
    },
    {
      "cell_type": "code",
      "metadata": {
        "colab": {
          "base_uri": "https://localhost:8080/",
          "height": 350
        },
        "id": "PJeVAi8KuqGh",
        "outputId": "01a57db0-95af-48b5-9035-c1175310e330"
      },
      "source": [
        "matplotlib.rcParams['figure.figsize'] = (5,5)\n",
        "sns.countplot(data[\"Y\"])\n",
        "plt.title(\"Clarify the balance of the data\")\n",
        "plt.show();"
      ],
      "execution_count": 39,
      "outputs": [
        {
          "output_type": "display_data",
          "data": {
            "image/png": "[encoded data removed]",
            "text/plain": [
              "<Figure size 360x360 with 1 Axes>"
            ]
          },
          "metadata": {
            "needs_background": "light"
          }
        }
      ]
    },
    {
      "cell_type": "markdown",
      "metadata": {
        "id": "du0PSXTQu8Bv"
      },
      "source": [
        "This is very bad the data is unbalanced and this will affect the algorithm that we will definitely use."
      ]
    },
    {
      "cell_type": "markdown",
      "metadata": {
        "id": "N4FKGLFzwICb"
      },
      "source": [
        "The problem of unbalanced data is a real problem, but we do not have a reference to the source of that data in order to work on increasing the data and reducing the imbalance between the data categories. We do this step because the data has limits and must be taken into account because if we do not do this we will get a misleading algorithm."
      ]
    },
    {
      "cell_type": "markdown",
      "metadata": {
        "id": "mvYDv-53uDge"
      },
      "source": [
        "# missing values"
      ]
    },
    {
      "cell_type": "code",
      "metadata": {
        "colab": {
          "base_uri": "https://localhost:8080/",
          "height": 296
        },
        "id": "kfTrTdXguFXe",
        "outputId": "c98a3c57-e802-48ad-8a46-4ba919387fe9"
      },
      "source": [
        "cols =data.columns\n",
        "colours = ['#000099', '#ffff00'] # specify the colours - yellow is missing. blue is not missing.\n",
        "sns.heatmap(data[cols].isnull(), cmap=sns.color_palette(colours))"
      ],
      "execution_count": 37,
      "outputs": [
        {
          "output_type": "execute_result",
          "data": {
            "text/plain": [
              "<matplotlib.axes._subplots.AxesSubplot at 0x7f99eb39a310>"
            ]
          },
          "metadata": {},
          "execution_count": 37
        },
        {
          "output_type": "display_data",
          "data": {
            "image/png": "[encoded data removed]",
            "text/plain": [
              "<Figure size 432x288 with 2 Axes>"
            ]
          },
          "metadata": {
            "needs_background": "light"
          }
        }
      ]
    },
    {
      "cell_type": "markdown",
      "metadata": {
        "id": "UhaqdHI9uV9y"
      },
      "source": [
        "There is nothing on the heat map that shows just any data. So we will move on to the next step."
      ]
    },
    {
      "cell_type": "markdown",
      "metadata": {
        "id": "phl4hYTHt5CF"
      },
      "source": [
        "# We get rid of duplicate data"
      ]
    },
    {
      "cell_type": "code",
      "metadata": {
        "colab": {
          "base_uri": "https://localhost:8080/"
        },
        "id": "wwsDgEE-c5Fs",
        "outputId": "cc062f42-4ca5-4b56-db5c-66d8701c2629"
      },
      "source": [
        "print('data shape befor remove duplicate = ' , data.shape)"
      ],
      "execution_count": 11,
      "outputs": [
        {
          "output_type": "stream",
          "name": "stdout",
          "text": [
            "data shape befor remove duplicate =  (1118, 18)\n"
          ]
        }
      ]
    },
    {
      "cell_type": "code",
      "metadata": {
        "colab": {
          "base_uri": "https://localhost:8080/"
        },
        "id": "t72q9DQXclVs",
        "outputId": "cd232dd9-9e03-41f6-f3b5-dfcc0e3ec2b5"
      },
      "source": [
        "data.duplicated().sum()"
      ],
      "execution_count": 12,
      "outputs": [
        {
          "output_type": "execute_result",
          "data": {
            "text/plain": [
              "224"
            ]
          },
          "metadata": {},
          "execution_count": 12
        }
      ]
    },
    {
      "cell_type": "code",
      "metadata": {
        "colab": {
          "base_uri": "https://localhost:8080/"
        },
        "id": "ADNFuQTZcvOd",
        "outputId": "374e93dc-d12a-4677-af7a-c43fb6b5bd07"
      },
      "source": [
        "data = data.drop('YEAR', axis=1).drop_duplicates()\n",
        "\n",
        "print('data shape after removing duplicate = ' , data.shape)"
      ],
      "execution_count": 13,
      "outputs": [
        {
          "output_type": "stream",
          "name": "stdout",
          "text": [
            "data shape after removing duplicate =  (892, 17)\n"
          ]
        }
      ]
    },
    {
      "cell_type": "code",
      "metadata": {
        "id": "ZIpSuT1WdPi9"
      },
      "source": [
        "# Separate the target column from the rest of the data\n",
        "from sklearn.model_selection import train_test_split\n",
        "target=data[\"Y\"]\n",
        "features=data.drop([\"Y\"],axis=1)"
      ],
      "execution_count": 14,
      "outputs": []
    },
    {
      "cell_type": "markdown",
      "metadata": {
        "id": "473rs0wYwnun"
      },
      "source": [
        "# Data Scaling"
      ]
    },
    {
      "cell_type": "code",
      "metadata": {
        "colab": {
          "base_uri": "https://localhost:8080/"
        },
        "id": "5CwT-Wg2nZ8x",
        "outputId": "f9ab17f9-c6db-4ad8-e13b-9d0278764d2e"
      },
      "source": [
        "from sklearn.preprocessing import MinMaxScaler\n",
        "scaler = MinMaxScaler()\n",
        "scaler.fit(features)"
      ],
      "execution_count": 15,
      "outputs": [
        {
          "output_type": "execute_result",
          "data": {
            "text/plain": [
              "MinMaxScaler()"
            ]
          },
          "metadata": {},
          "execution_count": 15
        }
      ]
    },
    {
      "cell_type": "code",
      "metadata": {
        "colab": {
          "base_uri": "https://localhost:8080/"
        },
        "id": "RtFq91OcndLU",
        "outputId": "80adccad-c36d-4bde-a6b6-8dd120f15742"
      },
      "source": [
        "new_features = scaler.transform(features)\n",
        "print(new_features)"
      ],
      "execution_count": 16,
      "outputs": [
        {
          "output_type": "stream",
          "name": "stdout",
          "text": [
            "[[2.91798260e-03 2.46900345e-03 1.20528222e-02 ... 2.85500879e-01\n",
            "  1.11332100e-04 8.68737830e-02]\n",
            " [3.02594047e-03 2.38307526e-03 1.38426828e-02 ... 2.86057411e-01\n",
            "  1.31047160e-04 8.77146398e-02]\n",
            " [2.77695093e-03 2.20467196e-03 1.31431593e-02 ... 2.85559461e-01\n",
            "  9.97350064e-05 8.67852717e-02]\n",
            " ...\n",
            " [9.67252572e-04 9.91856871e-04 2.39085956e-03 ... 2.81810193e-01\n",
            "  9.79954423e-05 8.12975748e-02]\n",
            " [5.77855408e-04 7.58623201e-04 1.37605791e-03 ... 2.81634446e-01\n",
            "  8.34990751e-05 8.10320411e-02]\n",
            " [5.44157576e-04 6.21138090e-04 1.54354944e-03 ... 2.81751611e-01\n",
            "  1.73376552e-04 8.12090636e-02]]\n"
          ]
        }
      ]
    },
    {
      "cell_type": "code",
      "metadata": {
        "colab": {
          "base_uri": "https://localhost:8080/"
        },
        "id": "OmLvL4X7nfaM",
        "outputId": "518d5b6a-f7ef-4439-9164-b0ceb103931c"
      },
      "source": [
        "print(new_features.shape)"
      ],
      "execution_count": 17,
      "outputs": [
        {
          "output_type": "stream",
          "name": "stdout",
          "text": [
            "(892, 16)\n"
          ]
        }
      ]
    },
    {
      "cell_type": "code",
      "metadata": {
        "id": "Ycoa8neonhhM"
      },
      "source": [
        "from sklearn import preprocessing \n",
        "lab_enc = preprocessing.LabelEncoder()\n",
        "y = lab_enc.fit_transform(target)"
      ],
      "execution_count": 18,
      "outputs": []
    },
    {
      "cell_type": "code",
      "metadata": {
        "colab": {
          "base_uri": "https://localhost:8080/"
        },
        "id": "_qvB58Udnmo7",
        "outputId": "85ea864d-fcb4-41b9-b514-126c3722c397"
      },
      "source": [
        "print(y.shape)"
      ],
      "execution_count": 19,
      "outputs": [
        {
          "output_type": "stream",
          "name": "stdout",
          "text": [
            "(892,)\n"
          ]
        }
      ]
    },
    {
      "cell_type": "code",
      "metadata": {
        "id": "XuwB77d7no9W"
      },
      "source": [
        "# Complete the data separation. \n",
        "x_train,x_test,y_train,y_test=train_test_split(new_features,target,test_size=0.1,random_state=0)"
      ],
      "execution_count": 40,
      "outputs": []
    },
    {
      "cell_type": "code",
      "metadata": {
        "colab": {
          "base_uri": "https://localhost:8080/"
        },
        "id": "CiGVHdF4nvz7",
        "outputId": "182a01b7-8a51-4e9c-e24e-c645294de934"
      },
      "source": [
        "print(x_train.shape,x_test.shape,y_train.shape,y_test.shape)"
      ],
      "execution_count": 21,
      "outputs": [
        {
          "output_type": "stream",
          "name": "stdout",
          "text": [
            "(802, 16) (90, 16) (802,) (90,)\n"
          ]
        }
      ]
    },
    {
      "cell_type": "markdown",
      "metadata": {
        "id": "nlpKcXLSw_9q"
      },
      "source": [
        "# Quick measurement of the performance of classification algorithms"
      ]
    },
    {
      "cell_type": "code",
      "metadata": {
        "colab": {
          "base_uri": "https://localhost:8080/"
        },
        "id": "3xc5Eccgn1uy",
        "outputId": "fb86e18f-f64e-4dca-f663-b93b84b10397"
      },
      "source": [
        "!pip install lazypredict\n",
        "from lazypredict.Supervised import LazyClassifier"
      ],
      "execution_count": 22,
      "outputs": [
        {
          "output_type": "stream",
          "name": "stdout",
          "text": [
            "Requirement already satisfied: lazypredict in /usr/local/lib/python3.7/dist-packages (0.2.9)\n",
            "Requirement already satisfied: pytest==5.4.3 in /usr/local/lib/python3.7/dist-packages (from lazypredict) (5.4.3)\n",
            "Requirement already satisfied: scikit-learn==0.23.1 in /usr/local/lib/python3.7/dist-packages (from lazypredict) (0.23.1)\n",
            "Requirement already satisfied: six==1.15.0 in /usr/local/lib/python3.7/dist-packages (from lazypredict) (1.15.0)\n",
            "Requirement already satisfied: xgboost==1.1.1 in /usr/local/lib/python3.7/dist-packages (from lazypredict) (1.1.1)\n",
            "Requirement already satisfied: lightgbm==2.3.1 in /usr/local/lib/python3.7/dist-packages (from lazypredict) (2.3.1)\n",
            "Requirement already satisfied: pandas==1.0.5 in /usr/local/lib/python3.7/dist-packages (from lazypredict) (1.0.5)\n",
            "Requirement already satisfied: joblib==1.0.0 in /usr/local/lib/python3.7/dist-packages (from lazypredict) (1.0.0)\n",
            "Requirement already satisfied: scipy==1.5.4 in /usr/local/lib/python3.7/dist-packages (from lazypredict) (1.5.4)\n",
            "Requirement already satisfied: tqdm==4.56.0 in /usr/local/lib/python3.7/dist-packages (from lazypredict) (4.56.0)\n",
            "Requirement already satisfied: PyYAML==5.3.1 in /usr/local/lib/python3.7/dist-packages (from lazypredict) (5.3.1)\n",
            "Requirement already satisfied: numpy==1.19.1 in /usr/local/lib/python3.7/dist-packages (from lazypredict) (1.19.1)\n",
            "Requirement already satisfied: click==7.1.2 in /usr/local/lib/python3.7/dist-packages (from lazypredict) (7.1.2)\n",
            "Requirement already satisfied: python-dateutil>=2.6.1 in /usr/local/lib/python3.7/dist-packages (from pandas==1.0.5->lazypredict) (2.8.2)\n",
            "Requirement already satisfied: pytz>=2017.2 in /usr/local/lib/python3.7/dist-packages (from pandas==1.0.5->lazypredict) (2018.9)\n",
            "Requirement already satisfied: more-itertools>=4.0.0 in /usr/local/lib/python3.7/dist-packages (from pytest==5.4.3->lazypredict) (8.8.0)\n",
            "Requirement already satisfied: importlib-metadata>=0.12 in /usr/local/lib/python3.7/dist-packages (from pytest==5.4.3->lazypredict) (4.6.4)\n",
            "Requirement already satisfied: attrs>=17.4.0 in /usr/local/lib/python3.7/dist-packages (from pytest==5.4.3->lazypredict) (21.2.0)\n",
            "Requirement already satisfied: wcwidth in /usr/local/lib/python3.7/dist-packages (from pytest==5.4.3->lazypredict) (0.2.5)\n",
            "Requirement already satisfied: pluggy<1.0,>=0.12 in /usr/local/lib/python3.7/dist-packages (from pytest==5.4.3->lazypredict) (0.13.1)\n",
            "Requirement already satisfied: packaging in /usr/local/lib/python3.7/dist-packages (from pytest==5.4.3->lazypredict) (21.0)\n",
            "Requirement already satisfied: py>=1.5.0 in /usr/local/lib/python3.7/dist-packages (from pytest==5.4.3->lazypredict) (1.10.0)\n",
            "Requirement already satisfied: threadpoolctl>=2.0.0 in /usr/local/lib/python3.7/dist-packages (from scikit-learn==0.23.1->lazypredict) (2.2.0)\n",
            "Requirement already satisfied: typing-extensions>=3.6.4 in /usr/local/lib/python3.7/dist-packages (from importlib-metadata>=0.12->pytest==5.4.3->lazypredict) (3.7.4.3)\n",
            "Requirement already satisfied: zipp>=0.5 in /usr/local/lib/python3.7/dist-packages (from importlib-metadata>=0.12->pytest==5.4.3->lazypredict) (3.5.0)\n",
            "Requirement already satisfied: pyparsing>=2.0.2 in /usr/local/lib/python3.7/dist-packages (from packaging->pytest==5.4.3->lazypredict) (2.4.7)\n"
          ]
        }
      ]
    },
    {
      "cell_type": "code",
      "metadata": {
        "colab": {
          "base_uri": "https://localhost:8080/"
        },
        "id": "g9l-M4obn756",
        "outputId": "68ec6c56-9ce2-4a62-a68a-6546ec180426"
      },
      "source": [
        "model = LazyClassifier(verbose=0,ignore_warnings=True, custom_metric=None)\n",
        "models,predictions = model.fit(x_train, x_test, y_train, y_test)"
      ],
      "execution_count": 23,
      "outputs": [
        {
          "output_type": "stream",
          "name": "stderr",
          "text": [
            "100%|██████████| 29/29 [00:01<00:00, 14.86it/s]\n"
          ]
        }
      ]
    },
    {
      "cell_type": "code",
      "metadata": {
        "colab": {
          "base_uri": "https://localhost:8080/"
        },
        "id": "HmCjJHRpoYvH",
        "outputId": "b7e60803-9e36-4404-ac95-2d01ac333f6b"
      },
      "source": [
        "print(predictions)"
      ],
      "execution_count": 24,
      "outputs": [
        {
          "output_type": "stream",
          "name": "stdout",
          "text": [
            "                               Accuracy  ...  Time Taken\n",
            "Model                                    ...            \n",
            "ExtraTreesClassifier               0.93  ...        0.17\n",
            "LGBMClassifier                     0.89  ...        0.18\n",
            "XGBClassifier                      0.89  ...        0.25\n",
            "RandomForestClassifier             0.89  ...        0.28\n",
            "KNeighborsClassifier               0.89  ...        0.02\n",
            "Perceptron                         0.82  ...        0.02\n",
            "BaggingClassifier                  0.87  ...        0.08\n",
            "ExtraTreeClassifier                0.86  ...        0.01\n",
            "NearestCentroid                    0.77  ...        0.02\n",
            "AdaBoostClassifier                 0.86  ...        0.15\n",
            "DecisionTreeClassifier             0.80  ...        0.02\n",
            "LogisticRegression                 0.84  ...        0.04\n",
            "PassiveAggressiveClassifier        0.82  ...        0.02\n",
            "NuSVC                              0.82  ...        0.05\n",
            "LinearSVC                          0.81  ...        0.11\n",
            "SGDClassifier                      0.79  ...        0.04\n",
            "BernoulliNB                        0.66  ...        0.01\n",
            "LabelSpreading                     0.78  ...        0.05\n",
            "LabelPropagation                   0.78  ...        0.04\n",
            "CalibratedClassifierCV             0.76  ...        0.16\n",
            "RidgeClassifierCV                  0.76  ...        0.04\n",
            "SVC                                0.76  ...        0.07\n",
            "RidgeClassifier                    0.73  ...        0.02\n",
            "LinearDiscriminantAnalysis         0.72  ...        0.03\n",
            "GaussianNB                         0.46  ...        0.02\n",
            "QuadraticDiscriminantAnalysis      0.40  ...        0.02\n",
            "DummyClassifier                    0.59  ...        0.01\n",
            "\n",
            "[27 rows x 5 columns]\n"
          ]
        }
      ]
    },
    {
      "cell_type": "markdown",
      "metadata": {
        "id": "rb68zAm9xUJJ"
      },
      "source": [
        "# ExtraTreesClassifier Algorithm"
      ]
    },
    {
      "cell_type": "code",
      "metadata": {
        "id": "iWmgsmXXofn-"
      },
      "source": [
        "from sklearn.ensemble import ExtraTreesClassifier"
      ],
      "execution_count": 25,
      "outputs": []
    },
    {
      "cell_type": "code",
      "metadata": {
        "id": "ZrJfNDYEonTd"
      },
      "source": [
        "model = ExtraTreesClassifier(n_estimators=50, random_state=0, min_samples_leaf=1,max_features='log2',bootstrap=True, oob_score=True)"
      ],
      "execution_count": 97,
      "outputs": []
    },
    {
      "cell_type": "code",
      "metadata": {
        "colab": {
          "base_uri": "https://localhost:8080/"
        },
        "id": "Xjs-B78-op70",
        "outputId": "0fa25f55-6103-4081-c5ee-950d72ad8d14"
      },
      "source": [
        "model.fit(x_train, y_train)"
      ],
      "execution_count": 98,
      "outputs": [
        {
          "output_type": "execute_result",
          "data": {
            "text/plain": [
              "ExtraTreesClassifier(bootstrap=True, max_features='log2', n_estimators=50,\n",
              "                     oob_score=True, random_state=0)"
            ]
          },
          "metadata": {},
          "execution_count": 98
        }
      ]
    },
    {
      "cell_type": "code",
      "metadata": {
        "colab": {
          "base_uri": "https://localhost:8080/"
        },
        "id": "2d6DNmNwoskW",
        "outputId": "2b3dcf3b-64f0-4f2b-9e12-d37945d60c2a"
      },
      "source": [
        "print('ExtraTreesClassifiermodel Train Score is : ' , model.score(x_train, y_train))"
      ],
      "execution_count": 99,
      "outputs": [
        {
          "output_type": "stream",
          "name": "stdout",
          "text": [
            "ExtraTreesClassifiermodel Train Score is :  1.0\n"
          ]
        }
      ]
    },
    {
      "cell_type": "code",
      "metadata": {
        "colab": {
          "base_uri": "https://localhost:8080/"
        },
        "id": "12DvivmOowL8",
        "outputId": "874ac931-b035-4053-be66-d9a23d6928cf"
      },
      "source": [
        "print('ExtraTreesClassifiermodel Test Score is : ' , model.score(x_test, y_test))\n",
        "print('ExtraTreesClassifiermodel features importances are : ' , model.feature_importances_)"
      ],
      "execution_count": 100,
      "outputs": [
        {
          "output_type": "stream",
          "name": "stdout",
          "text": [
            "ExtraTreesClassifiermodel Test Score is :  0.9333333333333333\n",
            "ExtraTreesClassifiermodel features importances are :  [0.05468601 0.06861504 0.06064372 0.0683231  0.07328431 0.04893224\n",
            " 0.04276825 0.05027291 0.01900332 0.04864591 0.05146026 0.04493097\n",
            " 0.0598756  0.11345116 0.03784385 0.15726334]\n"
          ]
        }
      ]
    },
    {
      "cell_type": "code",
      "metadata": {
        "colab": {
          "base_uri": "https://localhost:8080/"
        },
        "id": "jxwgi8wlozSA",
        "outputId": "f944b946-d862-4d31-eec9-4654c4469be8"
      },
      "source": [
        "#Calculating Prediction\n",
        "y_predict = model.predict(x_test)\n",
        "y_predict_prob = model.predict_proba(x_test)\n",
        "print('Predicted Value for ExtraTreesClassifiermodel is : ' , y_predict[:10])\n",
        "print('the real values which we want to predict    is :\\n' , y_test[:10])\n",
        "print('Prediction Probabilities Value for ExtraTreesClassifiermodel is : ' , y_predict_prob[:10])"
      ],
      "execution_count": 42,
      "outputs": [
        {
          "output_type": "stream",
          "name": "stdout",
          "text": [
            "Predicted Value for ExtraTreesClassifiermodel is :  [1. 1. 0. 1. 1. 0. 1. 1. 1. 1.]\n",
            "the real values which we want to predict    is :\n",
            " 503   1.00\n",
            "766   1.00\n",
            "278   0.00\n",
            "31    1.00\n",
            "255   1.00\n",
            "298   0.00\n",
            "665   1.00\n",
            "318   0.00\n",
            "492   1.00\n",
            "367   1.00\n",
            "Name: Y, dtype: float64\n",
            "Prediction Probabilities Value for ExtraTreesClassifiermodel is :  [[0.14 0.86]\n",
            " [0.2  0.8 ]\n",
            " [0.87 0.13]\n",
            " [0.03 0.97]\n",
            " [0.25 0.75]\n",
            " [0.88 0.12]\n",
            " [0.16 0.84]\n",
            " [0.25 0.75]\n",
            " [0.08 0.92]\n",
            " [0.06 0.94]]\n"
          ]
        }
      ]
    },
    {
      "cell_type": "code",
      "metadata": {
        "colab": {
          "base_uri": "https://localhost:8080/",
          "height": 316
        },
        "id": "_7NwN1Glo7Mo",
        "outputId": "f7ae061f-02a3-4c60-8a9f-2b5e136b6515"
      },
      "source": [
        "from sklearn.metrics import confusion_matrix\n",
        "#Calculating Confusion Matrix\n",
        "CM = confusion_matrix(y_test, y_predict)\n",
        "print('Confusion Matrix is : \\n', CM)\n",
        "\n",
        "# drawing confusion matrix\n",
        "sns.heatmap(CM, center = True)\n",
        "plt.show()"
      ],
      "execution_count": 32,
      "outputs": [
        {
          "output_type": "stream",
          "name": "stdout",
          "text": [
            "Confusion Matrix is : \n",
            " [[21  5]\n",
            " [ 1 63]]\n"
          ]
        },
        {
          "output_type": "display_data",
          "data": {
            "image/png": "[encoded data removed]",
            "text/plain": [
              "<Figure size 432x288 with 2 Axes>"
            ]
          },
          "metadata": {
            "needs_background": "light"
          }
        }
      ]
    },
    {
      "cell_type": "markdown",
      "metadata": {
        "id": "708OgZ3H2hCN"
      },
      "source": [
        "**The model that we built and trained has a problem which is overfitting, so to solve this problem we have to increase the data from the original data source so that there is homogeneity in the data and thus it is easy to form or discover a pattern in the data, because the good and the bad in machine learning algorithms is that The data didn't have a pattern he would create and that's a problem.**\n",
        "\n",
        "So we have to increase the amount of data, and the data also suffers from some defects from the point of view of the one based on building the algorithm and processing that data, which is the large number of zeros in the data. This will cause a defect, but we worked to reduce this defect by scaling the data, and this may not be a defect but rather it The correct values ​​and this is also a problem because we do not have a reference to the basis of that data until we know or get answers about the questions we face during data processing. "
      ]
    },
    {
      "cell_type": "code",
      "metadata": {
        "id": "jCJT7a7xpSSq"
      },
      "source": [
        ""
      ],
      "execution_count": null,
      "outputs": []
    }
  ]
}